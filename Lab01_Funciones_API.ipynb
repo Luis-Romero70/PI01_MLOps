{
 "cells": [
  {
   "attachments": {},
   "cell_type": "markdown",
   "metadata": {},
   "source": [
    "**1º PASO: Importación de librerías que se utilizarán en el proyecto**"
   ]
  },
  {
   "cell_type": "code",
   "execution_count": 2,
   "metadata": {},
   "outputs": [],
   "source": [
    "import matplotlib.pyplot as plt\n",
    "import numpy as np\n",
    "import pandas as pd\n",
    "from matplotlib.ticker import FormatStrFormatter\n",
    "import seaborn as sns\n",
    "import ast\n",
    "import json"
   ]
  },
  {
   "attachments": {},
   "cell_type": "markdown",
   "metadata": {},
   "source": [
    "# Desarrollo de la API"
   ]
  },
  {
   "cell_type": "markdown",
   "metadata": {},
   "source": [
    "Siguiendo con el desarrollo del proyecto, se implementarán 6 fuciones específicas para la realización de consultas por parte de un usuario, a través de una API que será deployed posteriomente mediante **Render**."
   ]
  },
  {
   "cell_type": "markdown",
   "metadata": {},
   "source": [
    "Todas las funciones, al igual que el modelo de ML que se desarrollará para implementar un sistema de recomendación, se alimentarán con el DataFrame obtenido en la etapa de ETL (`movies_ETL.csv`)"
   ]
  },
  {
   "cell_type": "code",
   "execution_count": 3,
   "metadata": {},
   "outputs": [],
   "source": [
    "df_movies = pd.read_csv('movies_ETL.csv')"
   ]
  },
  {
   "attachments": {},
   "cell_type": "markdown",
   "metadata": {},
   "source": [
    "## Generación de Funciones"
   ]
  },
  {
   "attachments": {},
   "cell_type": "markdown",
   "metadata": {},
   "source": [
    "#### 1º Películas por Idioma <br>\n",
    "Esta función filtra las películas por el idioma especificado como entrada y devuelve la cantidad de películas que se estrenaron en ese idioma especificado.<br>\n",
    "El idioma debe ingresarse según el código ISO 639 1. Por ejemplo para el idioma _inglés_ corresponde _en_, y para _español_, _es_."
   ]
  },
  {
   "cell_type": "code",
   "execution_count": 4,
   "metadata": {},
   "outputs": [],
   "source": [
    "def peliculas_idioma(Idioma: str):\n",
    "    # Filtrar las películas por idioma\n",
    "    peliculas_filtradas = df_movies[df_movies['original_language'] == Idioma]\n",
    "    \n",
    "    # Obtener la cantidad de películas filtradas\n",
    "    cantidad_peliculas = len(peliculas_filtradas)\n",
    "    \n",
    "    # Generar el mensaje de retorno\n",
    "    mensaje_retorno = f\"Hay {cantidad_peliculas} película(s) que fueron estrenadas en {Idioma}\"\n",
    "    \n",
    "    return mensaje_retorno\n"
   ]
  },
  {
   "cell_type": "code",
   "execution_count": 5,
   "metadata": {},
   "outputs": [
    {
     "name": "stdout",
     "output_type": "stream",
     "text": [
      "Hay 32249 película(s) que fueron estrenadas en en\n"
     ]
    }
   ],
   "source": [
    "resultado = peliculas_idioma(\"en\")\n",
    "print(resultado)  # Imprime \"Hay X cantidad de películas que fueron estrenadas en es\"\n"
   ]
  },
  {
   "attachments": {},
   "cell_type": "markdown",
   "metadata": {},
   "source": [
    "#### 2º Duración y Año de estreno <br>\n",
    "Esta función filtra las películas por el nombre de película especificado como entrada y devuelve la duración de la película y el año de estreno."
   ]
  },
  {
   "cell_type": "code",
   "execution_count": 6,
   "metadata": {},
   "outputs": [],
   "source": [
    "def peliculas_duracion(Pelicula: str):\n",
    "    # Filtrar las películas por nombre\n",
    "    pelicula_filtrada = df_movies[df_movies['title'] == Pelicula]\n",
    "    \n",
    "    # Verificar si se encontró la película\n",
    "    if len(pelicula_filtrada) == 0:\n",
    "        return \"No se encontró la película especificada. Verifique el nombre e ingréselo nuevamente\"\n",
    "    \n",
    "    # Obtener la duración y el año de estreno de la película\n",
    "    duracion = pelicula_filtrada['runtime'].values[0]\n",
    "    anio_estreno = pelicula_filtrada['release_year'].values[0]\n",
    "    \n",
    "    # Generar el mensaje de retorno\n",
    "    mensaje_retorno = f\"{Pelicula}. Duración: {duracion}. Año de estreno: {anio_estreno}\"\n",
    "    \n",
    "    return mensaje_retorno\n"
   ]
  },
  {
   "cell_type": "code",
   "execution_count": 8,
   "metadata": {},
   "outputs": [
    {
     "name": "stdout",
     "output_type": "stream",
     "text": [
      "Star Wars. Duración: 121.0. Año de estreno: 1977\n"
     ]
    }
   ],
   "source": [
    "resultado = peliculas_duracion(\"Star Wars\")\n",
    "print(resultado)  # Imprime \"Toy Story. Duración: x. Año de estreno: xxxx\""
   ]
  },
  {
   "attachments": {},
   "cell_type": "markdown",
   "metadata": {},
   "source": [
    "#### 3º Franquicia <br>\n",
    "Esta función filtra las películas por el nombre de franquicia especificado como entrada y devuelve: <br> - Cantidad de películas que pertenecen a la franquicia<br> - Ganancia total de la franquicia, obtenida como recaudación-inversión (revenue - budget)<br> - Ganancia promedio de la franquicia, obtenida como Ganancia total/Cantidad de películas de la franquicia"
   ]
  },
  {
   "cell_type": "code",
   "execution_count": 9,
   "metadata": {},
   "outputs": [],
   "source": [
    "def franquicia(Franquicia: str):\n",
    "    # Filtrar las películas por pertenecer a la franquicia especificada\n",
    "    peliculas_franquicia = df_movies[df_movies['franquicia'] == Franquicia]\n",
    "    \n",
    "    # Verificar si se encontraron películas para la franquicia especificada\n",
    "    if len(peliculas_franquicia) == 0:\n",
    "        return \"No se encontraron películas para la franquicia especificada.\"\n",
    "    \n",
    "    # Obtener la cantidad de películas, ganancia total y ganancia promedio\n",
    "    cantidad_peliculas = len(peliculas_franquicia)\n",
    "    ganancia_total = (peliculas_franquicia['revenue'] - peliculas_franquicia['budget']).sum()\n",
    "    ganancia_promedio = (peliculas_franquicia['revenue'] - peliculas_franquicia['budget']).mean()\n",
    "    \n",
    "    # Generar el mensaje de retorno\n",
    "    mensaje_retorno = f\"La franquicia {Franquicia} posee {cantidad_peliculas} películas, una ganancia total de {ganancia_total}, y una ganancia promedio de {ganancia_promedio}.\"\n",
    "    \n",
    "    return mensaje_retorno"
   ]
  },
  {
   "cell_type": "code",
   "execution_count": 11,
   "metadata": {},
   "outputs": [
    {
     "name": "stdout",
     "output_type": "stream",
     "text": [
      "La franquicia Despicable Me Collection posee 6 películas, una ganancia total de 3392070216.0, y una ganancia promedio de 565345036.0.\n"
     ]
    }
   ],
   "source": [
    "resultado = franquicia(\"Despicable Me Collection\")\n",
    "print(resultado)  # Imprime \"La franquicia Toy Story Collection posee x películas, una ganancia total de x, y una ganancia promedio de xx.\""
   ]
  },
  {
   "attachments": {},
   "cell_type": "markdown",
   "metadata": {},
   "source": [
    "#### 4º País <br>\n",
    "Esta función filtra las películas por el nombre del país especificado como entrada y devuelve la cantidad de películas que fueron producidas por ese país."
   ]
  },
  {
   "cell_type": "code",
   "execution_count": 12,
   "metadata": {},
   "outputs": [],
   "source": [
    "def peliculas_pais(Pais: str):\n",
    "    # Filtrar las películas por país de producción\n",
    "    películas_pais = df_movies[df_movies['países'].apply(lambda paises: Pais in paises)]\n",
    "    \n",
    "    # Obtener la cantidad de películas producidas en el país\n",
    "    cantidad_peliculas = len(películas_pais)\n",
    "    \n",
    "    # Generar el mensaje de retorno\n",
    "    mensaje_retorno = f\"Se produjeron {cantidad_peliculas} películas en el país {Pais}.\"\n",
    "    \n",
    "    return mensaje_retorno\n"
   ]
  },
  {
   "cell_type": "code",
   "execution_count": 13,
   "metadata": {},
   "outputs": [
    {
     "name": "stdout",
     "output_type": "stream",
     "text": [
      "Se produjeron 254 películas en el país Argentina.\n"
     ]
    }
   ],
   "source": [
    "resultado = peliculas_pais(\"Argentina\")\n",
    "print(resultado)  # Imprime \"Se produjeron x películas en el país United States.\"\n"
   ]
  },
  {
   "attachments": {},
   "cell_type": "markdown",
   "metadata": {},
   "source": [
    "#### 5º Productoras <br>\n",
    "Esta función filtra las películas por el nombre de la productora especificado como entrada y devuelve:<br> - Recaudación total (revenue). <br> - Cantidad de películas que realizó"
   ]
  },
  {
   "cell_type": "code",
   "execution_count": 14,
   "metadata": {},
   "outputs": [],
   "source": [
    "def productoras_exitosas(Productora: str):\n",
    "    # Filtrar las películas por productora\n",
    "    películas_productora = df_movies[df_movies['productoras'].apply(lambda compañías: Productora in compañías)]\n",
    "    \n",
    "    # Calcular la recaudación total\n",
    "    recaudación_total = películas_productora['revenue'].sum()\n",
    "    \n",
    "    # Obtener la cantidad de películas producidas\n",
    "    cantidad_peliculas = len(películas_productora)\n",
    "    \n",
    "    # Generar el mensaje de retorno\n",
    "    mensaje_retorno = f\"La productora {Productora} ha tenido una recaudación total de {recaudación_total}, con un total de {cantidad_peliculas} películas producidas.\"\n",
    "    \n",
    "    return mensaje_retorno\n"
   ]
  },
  {
   "cell_type": "code",
   "execution_count": 15,
   "metadata": {},
   "outputs": [
    {
     "name": "stdout",
     "output_type": "stream",
     "text": [
      "La productora Columbia Pictures ha tenido una recaudación total de 43533133740.0, con un total de 901 películas producidas.\n"
     ]
    }
   ],
   "source": [
    "resultado = productoras_exitosas(\"Columbia Pictures\")\n",
    "print(resultado)  # Imprime \"La productora Universal Pictures ha tenido una recaudación total de x, con un total de x películas producidas.\"\n"
   ]
  },
  {
   "attachments": {},
   "cell_type": "markdown",
   "metadata": {},
   "source": [
    "#### 6º Director <br>\n",
    "Esta función filtra las películas por el nombre del director especificado como entrada y devuelve:<br> - Recaudación total (revenue). <br> - Nombre de cada película, con la fecha de lanzamiento (release_date), recaudación individual, costo y ganacia, en formato de lista"
   ]
  },
  {
   "cell_type": "code",
   "execution_count": 18,
   "metadata": {},
   "outputs": [],
   "source": [
    "def get_director(nombre_director):\n",
    "    # Filtrar las películas por director\n",
    "    películas_director = df_movies[df_movies['director'].notnull() & df_movies['director'].apply(lambda directores: isinstance(directores, str) and nombre_director in directores)]\n",
    "\n",
    "    # Calcular el retorno total del director\n",
    "    retorno_total = películas_director['revenue'].sum()\n",
    "    \n",
    "    # Generar una lista de información detallada de cada película\n",
    "    películas_info = []\n",
    "    for index, row in películas_director.iterrows():\n",
    "        película = {\n",
    "            'nombre': row['title'],\n",
    "            'fecha_lanzamiento': row['release_date'],\n",
    "            'retorno': row['revenue'],\n",
    "            'costo': row['budget'],\n",
    "            'ganancia': row['revenue'] - row['budget']\n",
    "        }\n",
    "        películas_info.append(película)\n",
    "    \n",
    "    # Generar el mensaje de retorno\n",
    "    mensaje_retorno = f\"El director {nombre_director} ha logrado un retorno de {retorno_total}.\"\n",
    "    \n",
    "    return mensaje_retorno, películas_info\n"
   ]
  },
  {
   "cell_type": "code",
   "execution_count": 19,
   "metadata": {},
   "outputs": [
    {
     "name": "stdout",
     "output_type": "stream",
     "text": [
      "El director Steven Spielberg ha logrado un retorno de 9256621422.0.\n",
      "[{'nombre': 'Jurassic Park', 'fecha_lanzamiento': '1993-06-11', 'retorno': 920100000.0, 'costo': 63000000, 'ganancia': 857100000.0}, {'nombre': \"Schindler's List\", 'fecha_lanzamiento': '1993-11-29', 'retorno': 321365567.0, 'costo': 22000000, 'ganancia': 299365567.0}, {'nombre': 'E.T. the Extra-Terrestrial', 'fecha_lanzamiento': '1982-04-03', 'retorno': 792965326.0, 'costo': 10500000, 'ganancia': 782465326.0}, {'nombre': 'Raiders of the Lost Ark', 'fecha_lanzamiento': '1981-06-12', 'retorno': 389925971.0, 'costo': 18000000, 'ganancia': 371925971.0}, {'nombre': 'Indiana Jones and the Last Crusade', 'fecha_lanzamiento': '1989-05-24', 'retorno': 474171806.0, 'costo': 48000000, 'ganancia': 426171806.0}, {'nombre': 'Jaws', 'fecha_lanzamiento': '1975-06-18', 'retorno': 470654000.0, 'costo': 7000000, 'ganancia': 463654000.0}, {'nombre': 'The Lost World: Jurassic Park', 'fecha_lanzamiento': '1997-05-23', 'retorno': 229074524.0, 'costo': 73000000, 'ganancia': 156074524.0}, {'nombre': 'Amistad', 'fecha_lanzamiento': '1997-12-03', 'retorno': 74000000.0, 'costo': 36000000, 'ganancia': 38000000.0}, {'nombre': 'Saving Private Ryan', 'fecha_lanzamiento': '1998-07-24', 'retorno': 481840909.0, 'costo': 70000000, 'ganancia': 411840909.0}, {'nombre': 'Indiana Jones and the Temple of Doom', 'fecha_lanzamiento': '1984-05-23', 'retorno': 333000000.0, 'costo': 28000000, 'ganancia': 305000000.0}, {'nombre': 'The Color Purple', 'fecha_lanzamiento': '1985-12-18', 'retorno': 146292009.0, 'costo': 15000000, 'ganancia': 131292009.0}, {'nombre': 'Close Encounters of the Third Kind', 'fecha_lanzamiento': '1977-11-16', 'retorno': 303788635.0, 'costo': 20000000, 'ganancia': 283788635.0}, {'nombre': 'Hook', 'fecha_lanzamiento': '1991-12-11', 'retorno': 300854823.0, 'costo': 70000000, 'ganancia': 230854823.0}, {'nombre': 'The Sugarland Express', 'fecha_lanzamiento': '1974-04-05', 'retorno': 12800000.0, 'costo': 3000000, 'ganancia': 9800000.0}, {'nombre': 'Empire of the Sun', 'fecha_lanzamiento': '1987-12-09', 'retorno': 22238696.0, 'costo': 35000000, 'ganancia': -12761304.0}, {'nombre': 'A.I. Artificial Intelligence', 'fecha_lanzamiento': '2001-06-29', 'retorno': 235926552.0, 'costo': 100000000, 'ganancia': 135926552.0}, {'nombre': 'Always', 'fecha_lanzamiento': '1989-12-22', 'retorno': 74134790.0, 'costo': 31000000, 'ganancia': 43134790.0}, {'nombre': 'Minority Report', 'fecha_lanzamiento': '2002-06-20', 'retorno': 358372926.0, 'costo': 102000000, 'ganancia': 256372926.0}, {'nombre': 'Catch Me If You Can', 'fecha_lanzamiento': '2002-12-25', 'retorno': 352114312.0, 'costo': 52000000, 'ganancia': 300114312.0}, {'nombre': '1941', 'fecha_lanzamiento': '1979-12-13', 'retorno': 31755742.0, 'costo': 35000000, 'ganancia': -3244258.0}, {'nombre': 'The Terminal', 'fecha_lanzamiento': '2004-06-17', 'retorno': 219417255.0, 'costo': 60000000, 'ganancia': 159417255.0}, {'nombre': 'Duel', 'fecha_lanzamiento': '1972-10-01', 'retorno': 0.0, 'costo': 450000, 'ganancia': -450000.0}, {'nombre': 'Twilight Zone: The Movie', 'fecha_lanzamiento': '1983-06-24', 'retorno': 29450919.0, 'costo': 10000000, 'ganancia': 19450919.0}, {'nombre': 'War of the Worlds', 'fecha_lanzamiento': '2005-06-28', 'retorno': 591739379.0, 'costo': 132000000, 'ganancia': 459739379.0}, {'nombre': 'Munich', 'fecha_lanzamiento': '2005-12-22', 'retorno': 130358911.0, 'costo': 70000000, 'ganancia': 60358911.0}, {'nombre': 'Indiana Jones and the Kingdom of the Crystal Skull', 'fecha_lanzamiento': '2008-05-21', 'retorno': 786636033.0, 'costo': 185000000, 'ganancia': 601636033.0}, {'nombre': 'The Adventures of Tintin', 'fecha_lanzamiento': '2011-10-25', 'retorno': 371940071.0, 'costo': 130000000, 'ganancia': 241940071.0}, {'nombre': 'War Horse', 'fecha_lanzamiento': '2011-12-25', 'retorno': 177584879.0, 'costo': 66000000, 'ganancia': 111584879.0}, {'nombre': 'Lincoln', 'fecha_lanzamiento': '2012-11-09', 'retorno': 275293450.0, 'costo': 65000000, 'ganancia': 210293450.0}, {'nombre': 'Night Gallery', 'fecha_lanzamiento': '1969-04-03', 'retorno': 0.0, 'costo': 0, 'ganancia': 0.0}, {'nombre': 'Bridge of Spies', 'fecha_lanzamiento': '2015-10-15', 'retorno': 165478348.0, 'costo': 40000000, 'ganancia': 125478348.0}, {'nombre': 'The BFG', 'fecha_lanzamiento': '2016-06-01', 'retorno': 183345589.0, 'costo': 140000000, 'ganancia': 43345589.0}, {'nombre': 'Something Evil', 'fecha_lanzamiento': '1972-01-21', 'retorno': 0.0, 'costo': 0, 'ganancia': 0.0}]\n"
     ]
    }
   ],
   "source": [
    "retorno, películas = get_director(\"Steven Spielberg\")\n",
    "print(retorno)      # Imprime \"El director Steven Spielberg ha logrado un retorno de x.\"\n",
    "print(películas)    # Imprime la lista de películas dirigidas por Steven Spielberg con su información detallada."
   ]
  }
 ],
 "metadata": {
  "kernelspec": {
   "display_name": "Python 3",
   "language": "python",
   "name": "python3"
  },
  "language_info": {
   "codemirror_mode": {
    "name": "ipython",
    "version": 3
   },
   "file_extension": ".py",
   "mimetype": "text/x-python",
   "name": "python",
   "nbconvert_exporter": "python",
   "pygments_lexer": "ipython3",
   "version": "3.10.4"
  },
  "orig_nbformat": 4
 },
 "nbformat": 4,
 "nbformat_minor": 2
}
